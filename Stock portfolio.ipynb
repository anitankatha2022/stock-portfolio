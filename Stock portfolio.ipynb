{
 "cells": [
  {
   "cell_type": "markdown",
   "id": "7de24616",
   "metadata": {},
   "source": [
    "# Import modules"
   ]
  },
  {
   "cell_type": "code",
   "execution_count": 2,
   "id": "1b704954",
   "metadata": {},
   "outputs": [],
   "source": [
    "import pandas as pd\n",
    "import numpy as np\n"
   ]
  },
  {
   "cell_type": "markdown",
   "id": "c182974b",
   "metadata": {},
   "source": [
    "# Loading dataset"
   ]
  },
  {
   "cell_type": "code",
   "execution_count": 3,
   "id": "420eb5f2",
   "metadata": {},
   "outputs": [
    {
     "data": {
      "text/html": [
       "<div>\n",
       "<style scoped>\n",
       "    .dataframe tbody tr th:only-of-type {\n",
       "        vertical-align: middle;\n",
       "    }\n",
       "\n",
       "    .dataframe tbody tr th {\n",
       "        vertical-align: top;\n",
       "    }\n",
       "\n",
       "    .dataframe thead th {\n",
       "        text-align: right;\n",
       "    }\n",
       "</style>\n",
       "<table border=\"1\" class=\"dataframe\">\n",
       "  <thead>\n",
       "    <tr style=\"text-align: right;\">\n",
       "      <th></th>\n",
       "      <th>Date</th>\n",
       "      <th>Open</th>\n",
       "      <th>High</th>\n",
       "      <th>Low</th>\n",
       "      <th>Close</th>\n",
       "      <th>Adj Close</th>\n",
       "      <th>Volume</th>\n",
       "    </tr>\n",
       "  </thead>\n",
       "  <tbody>\n",
       "    <tr>\n",
       "      <th>0</th>\n",
       "      <td>2010-01-04</td>\n",
       "      <td>15.689439</td>\n",
       "      <td>15.753504</td>\n",
       "      <td>15.621622</td>\n",
       "      <td>15.684434</td>\n",
       "      <td>15.684434</td>\n",
       "      <td>78169752</td>\n",
       "    </tr>\n",
       "    <tr>\n",
       "      <th>1</th>\n",
       "      <td>2010-01-05</td>\n",
       "      <td>15.695195</td>\n",
       "      <td>15.711712</td>\n",
       "      <td>15.554054</td>\n",
       "      <td>15.615365</td>\n",
       "      <td>15.615365</td>\n",
       "      <td>120067812</td>\n",
       "    </tr>\n",
       "    <tr>\n",
       "      <th>2</th>\n",
       "      <td>2010-01-06</td>\n",
       "      <td>15.662162</td>\n",
       "      <td>15.662162</td>\n",
       "      <td>15.174174</td>\n",
       "      <td>15.221722</td>\n",
       "      <td>15.221722</td>\n",
       "      <td>158988852</td>\n",
       "    </tr>\n",
       "    <tr>\n",
       "      <th>3</th>\n",
       "      <td>2010-01-07</td>\n",
       "      <td>15.250250</td>\n",
       "      <td>15.265265</td>\n",
       "      <td>14.831081</td>\n",
       "      <td>14.867367</td>\n",
       "      <td>14.867367</td>\n",
       "      <td>256315428</td>\n",
       "    </tr>\n",
       "    <tr>\n",
       "      <th>4</th>\n",
       "      <td>2010-01-08</td>\n",
       "      <td>14.814815</td>\n",
       "      <td>15.096346</td>\n",
       "      <td>14.742492</td>\n",
       "      <td>15.065566</td>\n",
       "      <td>15.065566</td>\n",
       "      <td>188783028</td>\n",
       "    </tr>\n",
       "  </tbody>\n",
       "</table>\n",
       "</div>"
      ],
      "text/plain": [
       "         Date       Open       High        Low      Close  Adj Close  \\\n",
       "0  2010-01-04  15.689439  15.753504  15.621622  15.684434  15.684434   \n",
       "1  2010-01-05  15.695195  15.711712  15.554054  15.615365  15.615365   \n",
       "2  2010-01-06  15.662162  15.662162  15.174174  15.221722  15.221722   \n",
       "3  2010-01-07  15.250250  15.265265  14.831081  14.867367  14.867367   \n",
       "4  2010-01-08  14.814815  15.096346  14.742492  15.065566  15.065566   \n",
       "\n",
       "      Volume  \n",
       "0   78169752  \n",
       "1  120067812  \n",
       "2  158988852  \n",
       "3  256315428  \n",
       "4  188783028  "
      ]
     },
     "execution_count": 3,
     "metadata": {},
     "output_type": "execute_result"
    }
   ],
   "source": [
    "data=pd.read_csv('C:\\\\Users\\\\USER\\\\Desktop\\\\elast\\\\GOOGL.csv')\n",
    "data.head(5)"
   ]
  },
  {
   "cell_type": "code",
   "execution_count": 4,
   "id": "9969c96d",
   "metadata": {},
   "outputs": [
    {
     "data": {
      "text/plain": [
       "Date         0\n",
       "Open         0\n",
       "High         0\n",
       "Low          0\n",
       "Close        0\n",
       "Adj Close    0\n",
       "Volume       0\n",
       "dtype: int64"
      ]
     },
     "execution_count": 4,
     "metadata": {},
     "output_type": "execute_result"
    }
   ],
   "source": [
    "data.isnull().sum()"
   ]
  },
  {
   "cell_type": "code",
   "execution_count": 5,
   "id": "c0ea5de5",
   "metadata": {},
   "outputs": [
    {
     "data": {
      "text/plain": [
       "Date          object\n",
       "Open         float64\n",
       "High         float64\n",
       "Low          float64\n",
       "Close        float64\n",
       "Adj Close    float64\n",
       "Volume         int64\n",
       "dtype: object"
      ]
     },
     "execution_count": 5,
     "metadata": {},
     "output_type": "execute_result"
    }
   ],
   "source": [
    "data.dtypes"
   ]
  },
  {
   "cell_type": "code",
   "execution_count": 7,
   "id": "2db5ed83",
   "metadata": {},
   "outputs": [],
   "source": [
    "data['Date']=pd.to_numeric(data['Date'],errors='coerce')"
   ]
  },
  {
   "cell_type": "code",
   "execution_count": 9,
   "id": "08ca4904",
   "metadata": {},
   "outputs": [
    {
     "data": {
      "text/html": [
       "<div>\n",
       "<style scoped>\n",
       "    .dataframe tbody tr th:only-of-type {\n",
       "        vertical-align: middle;\n",
       "    }\n",
       "\n",
       "    .dataframe tbody tr th {\n",
       "        vertical-align: top;\n",
       "    }\n",
       "\n",
       "    .dataframe thead th {\n",
       "        text-align: right;\n",
       "    }\n",
       "</style>\n",
       "<table border=\"1\" class=\"dataframe\">\n",
       "  <thead>\n",
       "    <tr style=\"text-align: right;\">\n",
       "      <th></th>\n",
       "      <th>Date</th>\n",
       "      <th>Open</th>\n",
       "      <th>High</th>\n",
       "      <th>Low</th>\n",
       "      <th>Close</th>\n",
       "      <th>Adj Close</th>\n",
       "      <th>Volume</th>\n",
       "    </tr>\n",
       "  </thead>\n",
       "  <tbody>\n",
       "    <tr>\n",
       "      <th>0</th>\n",
       "      <td>NaN</td>\n",
       "      <td>NaN</td>\n",
       "      <td>NaN</td>\n",
       "      <td>NaN</td>\n",
       "      <td>NaN</td>\n",
       "      <td>NaN</td>\n",
       "      <td>NaN</td>\n",
       "    </tr>\n",
       "    <tr>\n",
       "      <th>1</th>\n",
       "      <td>NaN</td>\n",
       "      <td>0.000367</td>\n",
       "      <td>-0.002653</td>\n",
       "      <td>-0.004325</td>\n",
       "      <td>-0.004404</td>\n",
       "      <td>-0.004404</td>\n",
       "      <td>0.535988</td>\n",
       "    </tr>\n",
       "    <tr>\n",
       "      <th>2</th>\n",
       "      <td>NaN</td>\n",
       "      <td>-0.002105</td>\n",
       "      <td>-0.003154</td>\n",
       "      <td>-0.024423</td>\n",
       "      <td>-0.025209</td>\n",
       "      <td>-0.025209</td>\n",
       "      <td>0.324159</td>\n",
       "    </tr>\n",
       "    <tr>\n",
       "      <th>3</th>\n",
       "      <td>NaN</td>\n",
       "      <td>-0.026300</td>\n",
       "      <td>-0.025341</td>\n",
       "      <td>-0.022610</td>\n",
       "      <td>-0.023280</td>\n",
       "      <td>-0.023280</td>\n",
       "      <td>0.612160</td>\n",
       "    </tr>\n",
       "    <tr>\n",
       "      <th>4</th>\n",
       "      <td>NaN</td>\n",
       "      <td>-0.028553</td>\n",
       "      <td>-0.011066</td>\n",
       "      <td>-0.005973</td>\n",
       "      <td>0.013331</td>\n",
       "      <td>0.013331</td>\n",
       "      <td>-0.263474</td>\n",
       "    </tr>\n",
       "    <tr>\n",
       "      <th>...</th>\n",
       "      <td>...</td>\n",
       "      <td>...</td>\n",
       "      <td>...</td>\n",
       "      <td>...</td>\n",
       "      <td>...</td>\n",
       "      <td>...</td>\n",
       "      <td>...</td>\n",
       "    </tr>\n",
       "    <tr>\n",
       "      <th>3266</th>\n",
       "      <td>NaN</td>\n",
       "      <td>-0.010328</td>\n",
       "      <td>-0.018621</td>\n",
       "      <td>-0.022645</td>\n",
       "      <td>-0.020317</td>\n",
       "      <td>-0.020317</td>\n",
       "      <td>0.117706</td>\n",
       "    </tr>\n",
       "    <tr>\n",
       "      <th>3267</th>\n",
       "      <td>NaN</td>\n",
       "      <td>-0.011910</td>\n",
       "      <td>0.011407</td>\n",
       "      <td>0.008689</td>\n",
       "      <td>0.016750</td>\n",
       "      <td>0.016750</td>\n",
       "      <td>-0.168315</td>\n",
       "    </tr>\n",
       "    <tr>\n",
       "      <th>3268</th>\n",
       "      <td>NaN</td>\n",
       "      <td>0.019401</td>\n",
       "      <td>-0.006812</td>\n",
       "      <td>-0.000689</td>\n",
       "      <td>-0.020621</td>\n",
       "      <td>-0.020621</td>\n",
       "      <td>-0.126318</td>\n",
       "    </tr>\n",
       "    <tr>\n",
       "      <th>3269</th>\n",
       "      <td>NaN</td>\n",
       "      <td>-0.020495</td>\n",
       "      <td>-0.010119</td>\n",
       "      <td>-0.012297</td>\n",
       "      <td>-0.015677</td>\n",
       "      <td>-0.015677</td>\n",
       "      <td>-0.028566</td>\n",
       "    </tr>\n",
       "    <tr>\n",
       "      <th>3270</th>\n",
       "      <td>NaN</td>\n",
       "      <td>-0.004139</td>\n",
       "      <td>0.009200</td>\n",
       "      <td>0.007796</td>\n",
       "      <td>0.028249</td>\n",
       "      <td>0.028249</td>\n",
       "      <td>0.195168</td>\n",
       "    </tr>\n",
       "  </tbody>\n",
       "</table>\n",
       "<p>3271 rows × 7 columns</p>\n",
       "</div>"
      ],
      "text/plain": [
       "      Date      Open      High       Low     Close  Adj Close    Volume\n",
       "0      NaN       NaN       NaN       NaN       NaN        NaN       NaN\n",
       "1      NaN  0.000367 -0.002653 -0.004325 -0.004404  -0.004404  0.535988\n",
       "2      NaN -0.002105 -0.003154 -0.024423 -0.025209  -0.025209  0.324159\n",
       "3      NaN -0.026300 -0.025341 -0.022610 -0.023280  -0.023280  0.612160\n",
       "4      NaN -0.028553 -0.011066 -0.005973  0.013331   0.013331 -0.263474\n",
       "...    ...       ...       ...       ...       ...        ...       ...\n",
       "3266   NaN -0.010328 -0.018621 -0.022645 -0.020317  -0.020317  0.117706\n",
       "3267   NaN -0.011910  0.011407  0.008689  0.016750   0.016750 -0.168315\n",
       "3268   NaN  0.019401 -0.006812 -0.000689 -0.020621  -0.020621 -0.126318\n",
       "3269   NaN -0.020495 -0.010119 -0.012297 -0.015677  -0.015677 -0.028566\n",
       "3270   NaN -0.004139  0.009200  0.007796  0.028249   0.028249  0.195168\n",
       "\n",
       "[3271 rows x 7 columns]"
      ]
     },
     "execution_count": 9,
     "metadata": {},
     "output_type": "execute_result"
    }
   ],
   "source": [
    "#calculate the simple returns\n",
    "daily_simple_returns=data.pct_change(1)\n",
    "daily_simple_returns"
   ]
  },
  {
   "cell_type": "code",
   "execution_count": 10,
   "id": "58dfd4ed",
   "metadata": {},
   "outputs": [
    {
     "data": {
      "text/plain": [
       "Date              NaN\n",
       "Open         0.000663\n",
       "High         0.000637\n",
       "Low          0.000646\n",
       "Close        0.000674\n",
       "Adj Close    0.000674\n",
       "Volume       0.061879\n",
       "dtype: float64"
      ]
     },
     "execution_count": 10,
     "metadata": {},
     "output_type": "execute_result"
    }
   ],
   "source": [
    "#calculate the mean  and show of simple daily returns\n",
    "dailyMeanSimpleReturns=daily_simple_returns.mean()\n",
    "dailyMeanSimpleReturns"
   ]
  },
  {
   "cell_type": "code",
   "execution_count": 11,
   "id": "00138494",
   "metadata": {},
   "outputs": [
    {
     "data": {
      "text/plain": [
       "Date               NaN\n",
       "Open          0.167015\n",
       "High          0.160462\n",
       "Low           0.162849\n",
       "Close         0.169728\n",
       "Adj Close     0.169728\n",
       "Volume       15.593569\n",
       "dtype: float64"
      ]
     },
     "execution_count": 11,
     "metadata": {},
     "output_type": "execute_result"
    }
   ],
   "source": [
    "#show the annual returns\n",
    "dailyMeanSimpleReturns*252"
   ]
  },
  {
   "cell_type": "code",
   "execution_count": 16,
   "id": "7be8f9e4",
   "metadata": {},
   "outputs": [
    {
     "data": {
      "text/plain": [
       "0    1559.356932\n",
       "1      16.972812\n",
       "2      16.972812\n",
       "3      16.701459\n",
       "4      16.284861\n",
       "5      16.046211\n",
       "6            NaN\n",
       "dtype: float64"
      ]
     },
     "execution_count": 16,
     "metadata": {},
     "output_type": "execute_result"
    }
   ],
   "source": [
    "#sort values for daily mean returns and show the annualized returns as percentage\n",
    "\n",
    "dailyMeanSimpleReturns.sort_values(axis=0,ascending=False,inplace=True,kind='quicksort',na_position='last',ignore_index='False',key=None)\n",
    "\n",
    "dailyMeanSimpleReturns*252*100"
   ]
  },
  {
   "cell_type": "code",
   "execution_count": 17,
   "id": "e9fb687f",
   "metadata": {},
   "outputs": [
    {
     "name": "stdout",
     "output_type": "stream",
     "text": [
      "Requirement already satisfied: pyportfolioOpt in c:\\users\\user\\anaconda\\lib\\site-packages (1.5.5)Note: you may need to restart the kernel to use updated packages.\n",
      "Requirement already satisfied: scipy<2.0,>=1.3 in c:\\users\\user\\anaconda\\lib\\site-packages (from pyportfolioOpt) (1.7.3)\n",
      "Requirement already satisfied: numpy<2.0.0,>=1.22.4 in c:\\users\\user\\anaconda\\lib\\site-packages (from pyportfolioOpt) (1.22.4)\n",
      "Requirement already satisfied: cvxpy<2.0.0,>=1.1.19 in c:\\users\\user\\anaconda\\lib\\site-packages (from pyportfolioOpt) (1.3.2)\n",
      "Requirement already satisfied: pandas>=0.19 in c:\\users\\user\\anaconda\\lib\\site-packages (from pyportfolioOpt) (1.4.2)\n",
      "Requirement already satisfied: setuptools>65.5.1 in c:\\users\\user\\anaconda\\lib\\site-packages (from cvxpy<2.0.0,>=1.1.19->pyportfolioOpt) (68.0.0)\n",
      "Requirement already satisfied: ecos>=2 in c:\\users\\user\\anaconda\\lib\\site-packages (from cvxpy<2.0.0,>=1.1.19->pyportfolioOpt) (2.0.12)\n",
      "Requirement already satisfied: scs>=1.1.6 in c:\\users\\user\\anaconda\\lib\\site-packages (from cvxpy<2.0.0,>=1.1.19->pyportfolioOpt) (3.2.3)\n",
      "Requirement already satisfied: osqp>=0.4.1 in c:\\users\\user\\anaconda\\lib\\site-packages (from cvxpy<2.0.0,>=1.1.19->pyportfolioOpt) (0.6.3)\n",
      "Requirement already satisfied: qdldl in c:\\users\\user\\anaconda\\lib\\site-packages (from osqp>=0.4.1->cvxpy<2.0.0,>=1.1.19->pyportfolioOpt) (0.1.7.post0)\n",
      "Requirement already satisfied: pytz>=2020.1 in c:\\users\\user\\anaconda\\lib\\site-packages (from pandas>=0.19->pyportfolioOpt) (2021.3)\n",
      "Requirement already satisfied: python-dateutil>=2.8.1 in c:\\users\\user\\anaconda\\lib\\site-packages (from pandas>=0.19->pyportfolioOpt) (2.8.2)\n",
      "Requirement already satisfied: six>=1.5 in c:\\users\\user\\anaconda\\lib\\site-packages (from python-dateutil>=2.8.1->pandas>=0.19->pyportfolioOpt) (1.16.0)\n",
      "\n"
     ]
    }
   ],
   "source": [
    "pip install pyportfolioOpt"
   ]
  },
  {
   "cell_type": "code",
   "execution_count": 18,
   "id": "3824a3e7",
   "metadata": {},
   "outputs": [],
   "source": [
    "from pypfopt.efficient_frontier import EfficientFrontier\n",
    "from pypfopt import risk_models\n",
    "from pypfopt import expected_returns"
   ]
  },
  {
   "cell_type": "code",
   "execution_count": 20,
   "id": "68022af2",
   "metadata": {},
   "outputs": [],
   "source": [
    "#optimize the portfolio\n",
    "#calculate the expected returns and the annulized sample covarience matrix of(daily) assets returns\n",
    "mu=expected_returns.mean_historical_return(data)\n",
    "S=risk_models.sample_cov(data)"
   ]
  },
  {
   "cell_type": "code",
   "execution_count": 23,
   "id": "ab90c722",
   "metadata": {},
   "outputs": [
    {
     "name": "stdout",
     "output_type": "stream",
     "text": [
      "Expected annual return: 14.2%\n",
      "Annual volatility: 22.2%\n",
      "Sharpe Ratio: 0.55\n",
      "OrderedDict([('Open', 0.2923), ('High', 0.3365), ('Low', 0.07422), ('Close', 0.14849), ('Adj Close', 0.14849), ('Volume', 0.0)])\n"
     ]
    }
   ],
   "source": [
    "#optimize for maximal Sharpe ratio\n",
    "ef=EfficientFrontier(mu,S)\n",
    "weights=ef.max_sharpe()\n",
    "cleaned_weights=ef.clean_weights()\n",
    "ef.portfolio_performance(verbose=True)\n",
    "print(cleaned_weights)"
   ]
  },
  {
   "cell_type": "code",
   "execution_count": 24,
   "id": "9a1b56ea",
   "metadata": {},
   "outputs": [
    {
     "name": "stdout",
     "output_type": "stream",
     "text": [
      "Requirement already satisfied: pulp in c:\\users\\user\\anaconda\\lib\\site-packages (2.7.0)Note: you may need to restart the kernel to use updated packages.\n",
      "\n"
     ]
    }
   ],
   "source": [
    "pip install pulp"
   ]
  },
  {
   "cell_type": "code",
   "execution_count": 26,
   "id": "0af2ea2b",
   "metadata": {},
   "outputs": [
    {
     "name": "stdout",
     "output_type": "stream",
     "text": [
      "Discrete allocation: {'High': 4, 'Low': 1, 'Close': 2, 'Adj Close': 2}\n",
      "Funds remaining:$ 204.19001898526324\n"
     ]
    }
   ],
   "source": [
    "#Get the discrete allocation of each share per stock\n",
    "from pypfopt.discrete_allocation import DiscreteAllocation\n",
    "portfolio_val=1000\n",
    "latest_prices=data.tail(1).squeeze()\n",
    "weights=cleaned_weights\n",
    "da=DiscreteAllocation(weights,latest_prices,total_portfolio_value=portfolio_val)\n",
    "allocation,leftover=da.lp_portfolio()\n",
    "print('Discrete allocation:',allocation)\n",
    "print('Funds remaining:$',leftover)"
   ]
  },
  {
   "cell_type": "code",
   "execution_count": 27,
   "id": "b93e8ea7",
   "metadata": {},
   "outputs": [],
   "source": [
    "# Get the discrete allocation values\n",
    "discrete_allocation_list=[]\n",
    "for symbol in allocation:\n",
    "    discrete_allocation_list.append(allocation.get(symbol))"
   ]
  },
  {
   "cell_type": "code",
   "execution_count": 29,
   "id": "1d86fd52",
   "metadata": {},
   "outputs": [
    {
     "name": "stderr",
     "output_type": "stream",
     "text": [
      "C:\\Users\\USER\\AppData\\Local\\Temp\\ipykernel_7928\\3829392893.py:7: FutureWarning: Passing a dict as an indexer is deprecated and will raise in a future version. Use a list instead.\n",
      "  portfolio_df['Price']=latest_prices[allocation].values\n"
     ]
    }
   ],
   "source": [
    "#Create  a new DataFrame for portfolio\n",
    "portfolio_df=pd.DataFrame(columns=['company_ticker','Discrete_val'+str(portfolio_val)])\n",
    "\n",
    "#Add data to dataframe\n",
    "portfolio_df['company_ticker']=allocation\n",
    "portfolio_df['Discrete_val'+str(portfolio_val)]=discrete_allocation_list\n",
    "portfolio_df['Price']=latest_prices[allocation].values"
   ]
  },
  {
   "cell_type": "code",
   "execution_count": 31,
   "id": "113497b8",
   "metadata": {},
   "outputs": [
    {
     "data": {
      "text/html": [
       "<div>\n",
       "<style scoped>\n",
       "    .dataframe tbody tr th:only-of-type {\n",
       "        vertical-align: middle;\n",
       "    }\n",
       "\n",
       "    .dataframe tbody tr th {\n",
       "        vertical-align: top;\n",
       "    }\n",
       "\n",
       "    .dataframe thead th {\n",
       "        text-align: right;\n",
       "    }\n",
       "</style>\n",
       "<table border=\"1\" class=\"dataframe\">\n",
       "  <thead>\n",
       "    <tr style=\"text-align: right;\">\n",
       "      <th></th>\n",
       "      <th>company_ticker</th>\n",
       "      <th>Discrete_val1000</th>\n",
       "      <th>Price</th>\n",
       "    </tr>\n",
       "  </thead>\n",
       "  <tbody>\n",
       "    <tr>\n",
       "      <th>High</th>\n",
       "      <td>High</td>\n",
       "      <td>4</td>\n",
       "      <td>88.849998</td>\n",
       "    </tr>\n",
       "    <tr>\n",
       "      <th>Low</th>\n",
       "      <td>Low</td>\n",
       "      <td>1</td>\n",
       "      <td>86.610001</td>\n",
       "    </tr>\n",
       "    <tr>\n",
       "      <th>Close</th>\n",
       "      <td>Close</td>\n",
       "      <td>2</td>\n",
       "      <td>88.449997</td>\n",
       "    </tr>\n",
       "    <tr>\n",
       "      <th>Adj Close</th>\n",
       "      <td>Adj Close</td>\n",
       "      <td>2</td>\n",
       "      <td>88.449997</td>\n",
       "    </tr>\n",
       "  </tbody>\n",
       "</table>\n",
       "</div>"
      ],
      "text/plain": [
       "          company_ticker  Discrete_val1000      Price\n",
       "High                High                 4  88.849998\n",
       "Low                  Low                 1  86.610001\n",
       "Close              Close                 2  88.449997\n",
       "Adj Close      Adj Close                 2  88.449997"
      ]
     },
     "execution_count": 31,
     "metadata": {},
     "output_type": "execute_result"
    }
   ],
   "source": [
    "#show the portfolio\n",
    "portfolio_df"
   ]
  },
  {
   "cell_type": "code",
   "execution_count": null,
   "id": "3c43a39f",
   "metadata": {},
   "outputs": [],
   "source": []
  }
 ],
 "metadata": {
  "kernelspec": {
   "display_name": "Python 3 (ipykernel)",
   "language": "python",
   "name": "python3"
  },
  "language_info": {
   "codemirror_mode": {
    "name": "ipython",
    "version": 3
   },
   "file_extension": ".py",
   "mimetype": "text/x-python",
   "name": "python",
   "nbconvert_exporter": "python",
   "pygments_lexer": "ipython3",
   "version": "3.9.12"
  }
 },
 "nbformat": 4,
 "nbformat_minor": 5
}
